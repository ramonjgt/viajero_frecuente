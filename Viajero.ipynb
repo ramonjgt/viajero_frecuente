{
 "cells": [
  {
   "cell_type": "markdown",
   "metadata": {},
   "source": [
    "### Se declaran los paquetes a usar:"
   ]
  },
  {
   "cell_type": "code",
   "execution_count": 36,
   "metadata": {
    "collapsed": true
   },
   "outputs": [],
   "source": [
    "import numpy as np\n",
    "import random\n",
    "import matplotlib.pyplot as plt"
   ]
  },
  {
   "cell_type": "markdown",
   "metadata": {},
   "source": [
    "### Se llenara una matriz con los posibles viajes:"
   ]
  },
  {
   "cell_type": "code",
   "execution_count": 37,
   "metadata": {
    "collapsed": true
   },
   "outputs": [],
   "source": [
    "def posibles_viajes(individuos, columnas):\n",
    "\n",
    "    p = np.zeros((individuos, columnas))\n",
    "    for i in range(individuos):\n",
    "        ciudades = ([0, 1, 2, 3, 4, 5, 6, 7, 8, 9, 10, \n",
    "                     11, 12, 13, 14, 15, 16, 17])\n",
    "        for j in range(columnas):\n",
    "            cd_al_azar = random.choice(ciudades)\n",
    "            p[i][j] = cd_al_azar\n",
    "            ciudades.remove(cd_al_azar)\n",
    "    return p"
   ]
  },
  {
   "cell_type": "markdown",
   "metadata": {},
   "source": [
    "### se calcula la distancia total del viaje sumando las dist entre cada ciudad de la matriz posibles_viajes:"
   ]
  },
  {
   "cell_type": "code",
   "execution_count": 38,
   "metadata": {
    "collapsed": true
   },
   "outputs": [],
   "source": [
    "def distancias(viajes, dist, individuos, columnas):\n",
    "    \n",
    "    dist_del_viaje = np.zeros((individuos, 1))\n",
    "    for i in range(individuos):\n",
    "        suma_de_dist = 0\n",
    "        for j in range(columnas - 1):\n",
    "            cd = int(viajes[i][j])\n",
    "            cd_sig = int(viajes[i][j + 1])\n",
    "            cd_in = int(viajes[i][0])\n",
    "            cd_fin = int(viajes[i][17])\n",
    "            suma_de_dist += dist[cd][cd_sig]\n",
    "            dist_del_viaje[i][0] = suma_de_dist + dist[cd_in][cd_fin]\n",
    "    return dist_del_viaje"
   ]
  },
  {
   "cell_type": "markdown",
   "metadata": {},
   "source": [
    "### se ordenan las matrices de dist y viajes por su aptitud:"
   ]
  },
  {
   "cell_type": "code",
   "execution_count": 39,
   "metadata": {
    "collapsed": true
   },
   "outputs": [],
   "source": [
    "def ordenamiento(dist_de_viaje, viajes):\n",
    "    \n",
    "    dist_ord = np.copy(dist_de_viaje)\n",
    "    viajes_ord = np.copy(viajes)\n",
    "    for i in range(len(dist_ord)):\n",
    "        for j in range(len(dist_ord) - 1):\n",
    "            if abs(dist_ord[j, 0]) < abs(dist_ord[j + 1, 0]):\n",
    "               \n",
    "                dist_ord[j, 0], dist_ord[j + 1, 0] = \\\n",
    "                dist_ord[j + 1, 0], dist_ord[j, 0]\n",
    "                \n",
    "                viajes_ord[[j], :], viajes_ord[[j + 1], :] = \\\n",
    "                viajes_ord[[j + 1], :], viajes_ord[[j], :]\n",
    "    return dist_ord[::-1], viajes_ord[::-1]"
   ]
  },
  {
   "cell_type": "markdown",
   "metadata": {},
   "source": [
    "###  se da el cruce con el método de heuristic crossover:"
   ]
  },
  {
   "cell_type": "code",
   "execution_count": 40,
   "metadata": {
    "collapsed": true
   },
   "outputs": [],
   "source": [
    "def cruce(viajes_ordenados,individuos,dist, cant_padres):\n",
    "    \n",
    "    #viajes[cota_sup:cota_inf]\n",
    "    padres = viajes_ordenados[:cant_padres]\n",
    "    \n",
    "    # los mejores tienen más posibilidad de ser padres\n",
    "    a = random.randrange(1,101)\n",
    "    b = random.randrange(1,101)\n",
    "    \n",
    "    if a < 51:\n",
    "        padre_1 = padres[random.randrange(0, int(cant_padres*.1))].astype(int)\n",
    "    elif 51 <= a < 81:\n",
    "        padre_1 = padres[random.randrange(int(cant_padres*.1), int(cant_padres*.4))].astype(int)\n",
    "    elif 81 <= a <101:\n",
    "        padre_1 = padres[random.randrange(int(cant_padres*.4), cant_padres)].astype(int)\n",
    "        \n",
    "    if b < 51:\n",
    "        padre_2 = padres[random.randrange(0, int(cant_padres*.1))].astype(int)\n",
    "    elif 51 <= b < 81:\n",
    "        padre_2 = padres[random.randrange(int(cant_padres*.1), int(cant_padres*.4))].astype(int)\n",
    "    elif 81 <= b <101:\n",
    "        padre_2 = padres[random.randrange(int(cant_padres*.4), cant_padres)].astype(int)\n",
    "        \n",
    "    #creamos una copia de los padres, ya que al final aplicaremos elitismo\n",
    "    #y los padres no deben ser editados para poder ser comparados con los hijos\n",
    "    temp_padre_1 = 1 * padre_1\n",
    "    temp_padre_2 = 1 * padre_2\n",
    "    hijos = np.zeros((2,18))\n",
    "    \n",
    "    #comienza heuristic crossover:\n",
    "    k = 0\n",
    "    while (k < 2):\n",
    "        n = random.randrange(0,18)\n",
    "        x = np.where(temp_padre_1==n)[0]\n",
    "        y = np.where(temp_padre_2==n)[0]\n",
    "        \n",
    "        temp_padre_1 = np.roll(temp_padre_1, -x)\n",
    "        temp_padre_2 = np.roll(temp_padre_2, -y)\n",
    "        \n",
    "        hijo = np.zeros_like(padre_1)\n",
    "        hijo[0] = n\n",
    "        \n",
    "        for i in range(0,17):\n",
    "            dist_1 = dist[temp_padre_1[i]][temp_padre_1[i+1]]\n",
    "            dist_2 = dist[temp_padre_2[i]][temp_padre_2[i+1]]\n",
    "            if dist_1 < dist_2:\n",
    "                hijo[i+1] = temp_padre_1[i+1]\n",
    "                \n",
    "                j = (i+1)\n",
    "                v = np.where(temp_padre_2 == temp_padre_1[i+1])[0]\n",
    "                w = np.split(temp_padre_2,[i+1])\n",
    "                x = np.roll(w[1], -(v-j))\n",
    "                temp_padre_2 = np.concatenate((w[0],x))    \n",
    "            elif dist_1 > dist_2:\n",
    "                hijo[i+1] = temp_padre_2[i+1]\n",
    "                \n",
    "                j = (i+1)\n",
    "                v = np.where(temp_padre_1 == temp_padre_2[i+1])[0]\n",
    "                w = np.split(temp_padre_1,[i+1])\n",
    "                x = np.roll(w[1], -(v-j))\n",
    "                temp_padre_1 = np.concatenate((w[0],x))   \n",
    "            elif dist_1 == dist_2:\n",
    "                hijo[i+1] = temp_padre_1[i+1]\n",
    "        \n",
    "        hijos[k] = hijo\n",
    "        \n",
    "        k += 1\n",
    "        \n",
    "    # debo hacer lo siguiente para porder concatenarlos como renglones por\n",
    "    # separado, si no los une como un solo vector\n",
    "    padre_1 = np.reshape(padre_1, (-1,1))\n",
    "    padre_2 = np.reshape(padre_2, (-1,1))\n",
    "    hijo = np.reshape(hijo, (-1,1))      \n",
    "         \n",
    "    padre_1 = padre_1.transpose()\n",
    "    padre_2 = padre_2.transpose()\n",
    "    hijo = hijo.transpose()\n",
    "    \n",
    "    # se crea una matriz con los padres e hijos\n",
    "    padres_hijos = np.concatenate((padre_1, padre_2, hijos))\n",
    "    \n",
    "    return padres_hijos"
   ]
  },
  {
   "cell_type": "markdown",
   "metadata": {},
   "source": [
    " ### se da el cruce con el método de heuristic crossover"
   ]
  },
  {
   "cell_type": "code",
   "execution_count": 41,
   "metadata": {
    "collapsed": true
   },
   "outputs": [],
   "source": [
    "def mejores(padres_hijos, dist, individuos, columnas): \n",
    "    \n",
    "    dist_fam = distancias(padres_hijos, dist, individuos, columnas)\n",
    "    dist_fam_ordenadas, familia_ord = ordenamiento(dist_fam, padres_hijos)\n",
    "    mejores = familia_ord[:2,:] \n",
    "    \n",
    "    return mejores"
   ]
  },
  {
   "cell_type": "markdown",
   "metadata": {},
   "source": [
    "### se llena una matriz con los los más aptos del cruce y elitismo:"
   ]
  },
  {
   "cell_type": "code",
   "execution_count": 42,
   "metadata": {
    "collapsed": true
   },
   "outputs": [],
   "source": [
    "def generacion(elitismo, viajes, l, sig_generación):\n",
    "    \n",
    "    sig_generacion[l] = elitismo[0]\n",
    "    sig_generacion[l+1] = elitismo[1]\n",
    "    \n",
    "    return sig_generacion"
   ]
  },
  {
   "cell_type": "markdown",
   "metadata": {},
   "source": [
    "### se hace la mutación de mi población que elijo para ser padres:"
   ]
  },
  {
   "cell_type": "code",
   "execution_count": 43,
   "metadata": {
    "collapsed": true
   },
   "outputs": [],
   "source": [
    "def mutacion(viajes_ordenados, individuos, cant_padres, porcentaje_de_mutacion):\n",
    "    \n",
    "    # solo mutare a los individuos por debajo de la mitad:\n",
    "    cota_inf = cant_padres//2\n",
    "    candidatos = viajes_ordenados[cota_inf:cant_padres]\n",
    "    \n",
    "    num_ind = np.arange(cant_padres - cota_inf)\n",
    "    num_ind = list(num_ind)\n",
    "    \n",
    "    # se elije el porcentaje de mutación\n",
    "    for i in range(int((cant_padres)*.5)):\n",
    "        ciudades = ([0, 1, 2, 3, 4, 5, 6, 7, 8, 9, 10, \n",
    "                     11, 12, 13, 14, 15, 16, 17])\n",
    "        selec = random.choice(num_ind)\n",
    "        num_ind.remove(selec)\n",
    "        mutado = candidatos[selec]\n",
    "        for j in range(3):\n",
    "            a = random.choice(ciudades)\n",
    "            ciudades.remove(a)\n",
    "            b = random.choice(ciudades)\n",
    "            ciudades.remove(b)\n",
    "            mutado[a], mutado[b] = mutado[b], mutado[a]\n",
    "        \n",
    "        viajes_ordenados[cota_inf + selec] = mutado\n",
    "\n",
    "    return viajes_ordenados"
   ]
  },
  {
   "cell_type": "markdown",
   "metadata": {},
   "source": [
    "## A partir de aqui comienza en realidad a correr el programa porque lo anterior solo era la declaración de funciones, y lo subsecuente es la llamada de estas funciones:"
   ]
  },
  {
   "cell_type": "markdown",
   "metadata": {},
   "source": [
    "## Corremos el programa:"
   ]
  },
  {
   "cell_type": "markdown",
   "metadata": {},
   "source": [
    "* sin mutación:"
   ]
  },
  {
   "cell_type": "code",
   "execution_count": 44,
   "metadata": {
    "collapsed": true
   },
   "outputs": [],
   "source": [
    "dist = np.genfromtxt('distancias.csv', delimiter=' , ')\n",
    "columnas = 18\n",
    "individuos = 500\n",
    "generaciones = 15\n",
    "cant_padres = individuos//2\n",
    "porcentaje_de_mutacion = 0\n",
    "k = 0\n",
    "\n",
    "# población inicial:\n",
    "viajes = posibles_viajes(individuos, columnas)\n",
    "dist_del_viaje = distancias(viajes, dist, individuos, columnas)\n",
    "dist_ordenadas, viajes_ordenados = ordenamiento(dist_del_viaje, viajes)\n",
    "\n",
    "# desendencia: \n",
    "sig_generacion = np.zeros_like(viajes)\n",
    "mas_aptos = np.zeros((generaciones,1))\n",
    "menos_aptos = np.zeros((generaciones,1))\n",
    "\n",
    "\n",
    "while (k < generaciones):\n",
    "    for l in range(0, individuos, 2):\n",
    "        # generamos la matriz con los dos padres y dos hijos:\n",
    "        padres_hijos = cruce(viajes_ordenados,individuos,dist, cant_padres)\n",
    "        # elejimos a los dos mejores de la matriz padres_hijos:\n",
    "        elitismo = mejores(padres_hijos, dist, 4, columnas) \n",
    "        # llenamos la matriz desendencia con los individuos selecc. por elitismo\n",
    "        desendencia = generacion(elitismo, viajes,l, sig_generacion)\n",
    "\n",
    "    # volvemos a ordenarlos por aptitud:    \n",
    "    dist_del_viaje = distancias(desendencia, dist, individuos, columnas)\n",
    "    dist_ordenadas, viajes_ordenados = ordenamiento(dist_del_viaje, desendencia)\n",
    "    \n",
    "    # guardamos al mejor y al peor de cada generacion\n",
    "    mas_aptos[k] = dist_ordenadas[0]\n",
    "    menos_aptos[k] = dist_ordenadas[individuos//4*3]\n",
    "    \n",
    "    # mutamos la actual población:\n",
    "    viajes_ordenados = mutacion(viajes_ordenados, individuos, cant_padres, porcentaje_de_mutacion)\n",
    "    #volvemos a ordenarlos después de la solucion:\n",
    "#    dist_del_viaje = distancias(viajes_ordenados, dist, individuos, columnas)\n",
    "#    dist_ordenadas, viajes_ordenados = ordenamiento(dist_del_viaje, viajes_ordenados)\n",
    "\n",
    "    k += 1"
   ]
  },
  {
   "cell_type": "markdown",
   "metadata": {},
   "source": [
    "* con 10% de mutación:"
   ]
  },
  {
   "cell_type": "code",
   "execution_count": 45,
   "metadata": {
    "collapsed": true
   },
   "outputs": [],
   "source": [
    "dist = np.genfromtxt('distancias.csv', delimiter=' , ')\n",
    "columnas = 18\n",
    "individuos = 500\n",
    "generaciones = 15\n",
    "cant_padres = individuos//2\n",
    "porcentaje_de_mutacion = .1\n",
    "k = 0\n",
    "\n",
    "# población inicial:\n",
    "viajes = posibles_viajes(individuos, columnas)\n",
    "dist_del_viaje = distancias(viajes, dist, individuos, columnas)\n",
    "dist_ordenadas, viajes_ordenados = ordenamiento(dist_del_viaje, viajes)\n",
    "\n",
    "# desendencia: \n",
    "sig_generacion = np.zeros_like(viajes)\n",
    "mas_aptos_1 = np.zeros((generaciones,1))\n",
    "menos_aptos_1 = np.zeros((generaciones,1))\n",
    "\n",
    "# defino el numero individuos que tomo para que tengan hijos\n",
    "\n",
    "\n",
    "while (k < generaciones):\n",
    "    for l in range(0, individuos, 2):\n",
    "        # generamos la matriz con los dos padres y dos hijos:\n",
    "        padres_hijos = cruce(viajes_ordenados,individuos,dist, cant_padres)\n",
    "        # elejimos a los dos mejores de la matriz padres_hijos:\n",
    "        elitismo = mejores(padres_hijos, dist, 4, columnas) \n",
    "        # llenamos la matriz desendencia con los individuos selecc. por elitismo\n",
    "        desendencia = generacion(elitismo, viajes,l, sig_generacion)\n",
    "\n",
    "    # volvemos a ordenarlos por aptitud:    \n",
    "    dist_del_viaje = distancias(desendencia, dist, individuos, columnas)\n",
    "    dist_ordenadas, viajes_ordenados = ordenamiento(dist_del_viaje, desendencia)\n",
    "    \n",
    "    # guardamos al mejor y al peor de cada generacion\n",
    "    mas_aptos_1[k] = dist_ordenadas[0]\n",
    "    menos_aptos_1[k] = dist_ordenadas[individuos//4*3]\n",
    "    \n",
    "    # mutamos la actual población:\n",
    "    viajes_ordenados = mutacion(viajes_ordenados, individuos, cant_padres, porcentaje_de_mutacion)\n",
    "    #volvemos a ordenarlos después de la solucion:\n",
    "#    dist_del_viaje = distancias(viajes_ordenados, dist, individuos, columnas)\n",
    "#    dist_ordenadas, viajes_ordenados = ordenamiento(dist_del_viaje, viajes_ordenados)\n",
    "\n",
    "    k += 1"
   ]
  },
  {
   "cell_type": "markdown",
   "metadata": {},
   "source": [
    "* con 25% de mutacion:"
   ]
  },
  {
   "cell_type": "code",
   "execution_count": 46,
   "metadata": {
    "collapsed": true
   },
   "outputs": [],
   "source": [
    "dist = np.genfromtxt('distancias.csv', delimiter=' , ')\n",
    "columnas = 18\n",
    "individuos = 500\n",
    "generaciones = 15\n",
    "cant_padres = individuos//2\n",
    "porcentaje_de_mutacion = .25\n",
    "k = 0\n",
    "\n",
    "# población inicial:\n",
    "viajes = posibles_viajes(individuos, columnas)\n",
    "dist_del_viaje = distancias(viajes, dist, individuos, columnas)\n",
    "dist_ordenadas, viajes_ordenados = ordenamiento(dist_del_viaje, viajes)\n",
    "\n",
    "# desendencia: \n",
    "sig_generacion = np.zeros_like(viajes)\n",
    "mas_aptos_2 = np.zeros((generaciones,1))\n",
    "menos_aptos_2 = np.zeros((generaciones,1))\n",
    "\n",
    "# defino el numero individuos que tomo para que tengan hijos\n",
    "\n",
    "\n",
    "while (k < generaciones):\n",
    "    for l in range(0, individuos, 2):\n",
    "        # generamos la matriz con los dos padres y dos hijos:\n",
    "        padres_hijos = cruce(viajes_ordenados,individuos,dist, cant_padres)\n",
    "        # elejimos a los dos mejores de la matriz padres_hijos:\n",
    "        elitismo = mejores(padres_hijos, dist, 4, columnas) \n",
    "        # llenamos la matriz desendencia con los individuos selecc. por elitismo\n",
    "        desendencia = generacion(elitismo, viajes,l, sig_generacion)\n",
    "\n",
    "    # volvemos a ordenarlos por aptitud:    \n",
    "    dist_del_viaje = distancias(desendencia, dist, individuos, columnas)\n",
    "    dist_ordenadas, viajes_ordenados = ordenamiento(dist_del_viaje, desendencia)\n",
    "    \n",
    "    # guardamos al mejor y al peor de cada generacion\n",
    "    mas_aptos_2[k] = dist_ordenadas[0]\n",
    "    menos_aptos_2[k] = dist_ordenadas[individuos//4*3]\n",
    "    \n",
    "    # mutamos la actual población:\n",
    "    viajes_ordenados = mutacion(viajes_ordenados, individuos, cant_padres, porcentaje_de_mutacion)\n",
    "    #volvemos a ordenarlos después de la solucion:\n",
    "#    dist_del_viaje = distancias(viajes_ordenados, dist, individuos, columnas)\n",
    "#    dist_ordenadas, viajes_ordenados = ordenamiento(dist_del_viaje, viajes_ordenados)\n",
    "\n",
    "    k += 1"
   ]
  },
  {
   "cell_type": "markdown",
   "metadata": {},
   "source": [
    "* con 50 % de mutación:"
   ]
  },
  {
   "cell_type": "code",
   "execution_count": 47,
   "metadata": {
    "collapsed": true
   },
   "outputs": [],
   "source": [
    "dist = np.genfromtxt('distancias.csv', delimiter=' , ')\n",
    "columnas = 18\n",
    "individuos = 500\n",
    "generaciones = 15\n",
    "cant_padres = individuos//2\n",
    "porcentaje_de_mutacion = .5\n",
    "k = 0\n",
    "\n",
    "# población inicial:\n",
    "viajes = posibles_viajes(individuos, columnas)\n",
    "dist_del_viaje = distancias(viajes, dist, individuos, columnas)\n",
    "dist_ordenadas, viajes_ordenados = ordenamiento(dist_del_viaje, viajes)\n",
    "\n",
    "# desendencia: \n",
    "sig_generacion = np.zeros_like(viajes)\n",
    "mas_aptos_3 = np.zeros((generaciones,1))\n",
    "menos_aptos_3 = np.zeros((generaciones,1))\n",
    "\n",
    "# defino el numero individuos que tomo para que tengan hijos\n",
    "\n",
    "\n",
    "while (k < generaciones):\n",
    "    for l in range(0, individuos, 2):\n",
    "        # generamos la matriz con los dos padres y dos hijos:\n",
    "        padres_hijos = cruce(viajes_ordenados,individuos,dist, cant_padres)\n",
    "        # elejimos a los dos mejores de la matriz padres_hijos:\n",
    "        elitismo = mejores(padres_hijos, dist, 4, columnas) \n",
    "        # llenamos la matriz desendencia con los individuos selecc. por elitismo\n",
    "        desendencia = generacion(elitismo, viajes,l, sig_generacion)\n",
    "\n",
    "    # volvemos a ordenarlos por aptitud:    \n",
    "    dist_del_viaje = distancias(desendencia, dist, individuos, columnas)\n",
    "    dist_ordenadas, viajes_ordenados = ordenamiento(dist_del_viaje, desendencia)\n",
    "    \n",
    "    # guardamos al mejor y al peor de cada generacion\n",
    "    mas_aptos_3[k] = dist_ordenadas[0]\n",
    "    menos_aptos_3[k] = dist_ordenadas[individuos//4*3]\n",
    "    \n",
    "    # mutamos la actual población:\n",
    "    viajes_ordenados = mutacion(viajes_ordenados, individuos, cant_padres, porcentaje_de_mutacion)\n",
    "    #volvemos a ordenarlos después de la solucion:\n",
    "#    dist_del_viaje = distancias(viajes_ordenados, dist, individuos, columnas)\n",
    "#    dist_ordenadas, viajes_ordenados = ordenamiento(dist_del_viaje, viajes_ordenados)\n",
    "\n",
    "    k += 1"
   ]
  },
  {
   "cell_type": "markdown",
   "metadata": {},
   "source": [
    "### Imprimimos la menor distancia , junto con el correspondiente individuo"
   ]
  },
  {
   "cell_type": "code",
   "execution_count": 48,
   "metadata": {},
   "outputs": [
    {
     "data": {
      "text/plain": [
       "(array([ 23518.01]),\n",
       " array([ 10.,  15.,  16.,  12.,   4.,   1.,  17.,  14.,   3.,   9.,   5.,\n",
       "          0.,   8.,   6.,   2.,   7.,  13.,  11.]))"
      ]
     },
     "execution_count": 48,
     "metadata": {},
     "output_type": "execute_result"
    }
   ],
   "source": [
    "dist_ordenadas[0], viajes_ordenados[0]"
   ]
  },
  {
   "cell_type": "markdown",
   "metadata": {},
   "source": []
  },
  {
   "cell_type": "code",
   "execution_count": 49,
   "metadata": {},
   "outputs": [
    {
     "data": {
      "image/png": "[encoded data removed]",
      "text/plain": [
       "<matplotlib.figure.Figure at 0x7f593233a5c0>"
      ]
     },
     "metadata": {},
     "output_type": "display_data"
    }
   ],
   "source": [
    "f, graf = plt.subplots(2,2)\n",
    "plt.style.use('seaborn-darkgrid')\n",
    "f.suptitle(\"$Menor\\ distancia\\ vs\\ mejor\\ distancia$\")\n",
    "f.text(0.5, 0.04, '$Generaciones$', ha='center')\n",
    "f.text(0.04, 0.54, '$Distancia$', va='center', rotation='vertical')\n",
    "\n",
    "#gráfica sin mutación:\n",
    "graf[0,0].plot(mas_aptos, marker = \"o\", linestyle = \"--\", color = \"k\", label = \"menor distancia\")\n",
    "graf[0,0].plot(menos_aptos, marker = \".\", linestyle = \"--\", color = \"b\", label = \"mayor distancia\")\n",
    "graf[0,0].set_title(\"$sin\\ mutación$\")\n",
    "\n",
    "# gráfica con 10% de mutación:\n",
    "graf[0,1].plot(mas_aptos_1, marker = \"o\", linestyle = \"--\", color = \"k\", label = \"menor distancia\")\n",
    "graf[0,1].plot(menos_aptos_1, marker = \".\", linestyle = \"--\", color = \"b\", label = \"mayor distancia\")\n",
    "graf[0,1].set_title(\"$10\\% \\ de\\ población\\ mutada$\")\n",
    "\n",
    "# gráfica con 25% de mutación:\n",
    "graf[1,0].plot(mas_aptos_2, marker = \"o\", linestyle = \"--\", color = \"k\", label = \"menor distancia\")\n",
    "graf[1,0].plot(menos_aptos_2, marker = \".\", linestyle = \"--\", color = \"b\", label = \"mayor distancia\")\n",
    "graf[1,0].set_title(\"$25\\% \\ de\\ población\\ mutada$\")\n",
    "\n",
    "# gráfica con 50% de mutación:\n",
    "graf[1,1].plot(mas_aptos_1, marker = \"o\", linestyle = \"--\", color = \"k\", label = \"menor distancia\")\n",
    "graf[1,1].plot(menos_aptos_1, marker = \".\", linestyle = \"--\", color = \"b\", label = \"mayor distancia\")\n",
    "graf[1,1].set_title(\"$50\\% \\ de\\ población\\ mutada$\")\n",
    "\n",
    "plt.setp([a.get_xticklabels() for a in graf[0, :]], visible=False)\n",
    "plt.setp([a.get_yticklabels() for a in graf[:, 1]], visible=False)\n",
    "plt.show()\n",
    "\n"
   ]
  },
  {
   "cell_type": "code",
   "execution_count": null,
   "metadata": {
    "collapsed": true
   },
   "outputs": [],
   "source": []
  },
  {
   "cell_type": "code",
   "execution_count": null,
   "metadata": {
    "collapsed": true
   },
   "outputs": [],
   "source": []
  },
  {
   "cell_type": "code",
   "execution_count": null,
   "metadata": {
    "collapsed": true
   },
   "outputs": [],
   "source": []
  }
 ],
 "metadata": {
  "kernelspec": {
   "display_name": "Python 3",
   "language": "python",
   "name": "python3"
  },
  "language_info": {
   "codemirror_mode": {
    "name": "ipython",
    "version": 3
   },
   "file_extension": ".py",
   "mimetype": "text/x-python",
   "name": "python",
   "nbconvert_exporter": "python",
   "pygments_lexer": "ipython3",
   "version": "3.6.1"
  }
 },
 "nbformat": 4,
 "nbformat_minor": 2
}
